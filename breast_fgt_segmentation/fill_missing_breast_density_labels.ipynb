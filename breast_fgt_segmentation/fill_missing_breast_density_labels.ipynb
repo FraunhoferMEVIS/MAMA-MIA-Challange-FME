{
 "cells": [
  {
   "cell_type": "code",
   "execution_count": null,
   "id": "86ab8494",
   "metadata": {},
   "outputs": [],
   "source": [
    "import json\n",
    "import os\n",
    "import matplotlib.pyplot as plt\n",
    "import pandas as pd\n",
    "import seaborn as sns"
   ]
  },
  {
   "cell_type": "code",
   "execution_count": null,
   "id": "69964595",
   "metadata": {},
   "outputs": [],
   "source": [
    "csv_path = '../../breast_density_calculation/breast_fgt_volumes.csv'\n",
    "df = pd.read_csv(csv_path)\n",
    "df"
   ]
  },
  {
   "cell_type": "code",
   "execution_count": null,
   "id": "b178f8cb",
   "metadata": {},
   "outputs": [],
   "source": [
    "df['dataset'] = df['filename'].str.split('_').str[0]\n",
    "df['patient_name'] = df['filename'].str.split('.').str[0]\n",
    "df"
   ]
  },
  {
   "cell_type": "code",
   "execution_count": null,
   "id": "4ecf96b9",
   "metadata": {},
   "outputs": [],
   "source": [
    "fig, ax = plt.subplots(1, 3, figsize=(15, 5))\n",
    "\n",
    "sns.boxplot(data=df, x='dataset', y='breast_density', ax=ax[0])\n",
    "sns.boxplot(data=df, x='dataset', y='breast_volume_mm3', ax=ax[1])\n",
    "sns.boxplot(data=df, x='dataset', y='parenchyma_volume_mm3', ax=ax[2])\n",
    "plt.tight_layout()\n",
    "plt.show()"
   ]
  },
  {
   "cell_type": "code",
   "execution_count": null,
   "id": "5a5d4def",
   "metadata": {},
   "outputs": [],
   "source": [
    "df.groupby('dataset')['breast_density'].quantile([0.25, 0.5, 0.75])"
   ]
  },
  {
   "cell_type": "code",
   "execution_count": null,
   "id": "0d1f58ee",
   "metadata": {},
   "outputs": [],
   "source": [
    "df['breast_density'].quantile([0.25, 0.5, 0.75])"
   ]
  },
  {
   "cell_type": "code",
   "execution_count": null,
   "id": "205f8ee6",
   "metadata": {},
   "outputs": [],
   "source": [
    "def classify_breast_density(density: float) -> str:\n",
    "    if density < 0.04287:\n",
    "        return 'a'\n",
    "    elif density < 0.07909:\n",
    "        return 'b'\n",
    "    elif density < 0.13591:\n",
    "        return 'c'\n",
    "    else:\n",
    "        return 'd'\n",
    "    \n",
    "df['breast_density_class'] = df['breast_density'].map(classify_breast_density)"
   ]
  },
  {
   "cell_type": "code",
   "execution_count": null,
   "id": "4c321f84",
   "metadata": {},
   "outputs": [],
   "source": [
    "sns.stripplot(data=df, x='dataset', y='breast_density', hue='breast_density_class')\n",
    "plt.show()"
   ]
  },
  {
   "cell_type": "code",
   "execution_count": null,
   "id": "9e7349c9",
   "metadata": {},
   "outputs": [],
   "source": [
    "input_folder = '../../deep_learning/classification_data_version_3/labels'\n",
    "\n",
    "for json_file in os.listdir(input_folder):\n",
    "    print(f'Processing file {json_file}')\n",
    "    file_path = os.path.join(input_folder, json_file)\n",
    "    with open(file_path, 'r') as file:\n",
    "        labels = json.load(file)\n",
    "    if not labels['breast_density'] in ['a', 'b', 'c', 'd']:\n",
    "        patient_name = json_file.split('.')[0]\n",
    "        breast_density = df[df['patient_name'] == patient_name]['breast_density_class'].to_list()[0]\n",
    "        labels['breast_density'] = breast_density\n",
    "        with open(file_path, 'w') as file:\n",
    "            json.dump(labels, file)\n",
    "    "
   ]
  },
  {
   "cell_type": "code",
   "execution_count": null,
   "id": "5587a9f0",
   "metadata": {},
   "outputs": [],
   "source": []
  }
 ],
 "metadata": {
  "kernelspec": {
   "display_name": "mamamia",
   "language": "python",
   "name": "python3"
  },
  "language_info": {
   "codemirror_mode": {
    "name": "ipython",
    "version": 3
   },
   "file_extension": ".py",
   "mimetype": "text/x-python",
   "name": "python",
   "nbconvert_exporter": "python",
   "pygments_lexer": "ipython3",
   "version": "3.12.9"
  }
 },
 "nbformat": 4,
 "nbformat_minor": 5
}
