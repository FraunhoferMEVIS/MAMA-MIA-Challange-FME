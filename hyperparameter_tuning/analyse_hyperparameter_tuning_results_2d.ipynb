{
 "cells": [
  {
   "cell_type": "code",
   "execution_count": null,
   "id": "ca183365",
   "metadata": {},
   "outputs": [],
   "source": [
    "import json\n",
    "import os\n",
    "import pandas as pd\n",
    "import seaborn as sns\n",
    "import matplotlib.pyplot as plt"
   ]
  },
  {
   "cell_type": "code",
   "execution_count": null,
   "id": "3f5f771a",
   "metadata": {},
   "outputs": [],
   "source": [
    "results_folder = '../../MamaMia/hyperparameter_tuning/tune_results/2d_tuning_run_2'\n",
    "results = []\n",
    "for subfolder in os.listdir(results_folder):\n",
    "    if os.path.isdir(os.path.join(results_folder, subfolder)):\n",
    "        result_file = os.path.join(results_folder, subfolder, 'result.json')\n",
    "        with open(result_file, 'r') as file:\n",
    "            try:\n",
    "                result = json.load(file)\n",
    "            except json.JSONDecodeError:\n",
    "                continue\n",
    "            config = result['config']\n",
    "            result.update(config)\n",
    "            result.pop('config')\n",
    "        results.append(result)\n",
    "results_df = pd.DataFrame(results)\n",
    "results_df.head()"
   ]
  },
  {
   "cell_type": "code",
   "execution_count": null,
   "id": "31265dbf",
   "metadata": {},
   "outputs": [],
   "source": [
    "results_df['mean_5_fold_ranking_score'] = results_df['mean_5_fold_ranking_score'].map(lambda x: 0.5 if x==0 else x)"
   ]
  },
  {
   "cell_type": "code",
   "execution_count": null,
   "id": "6d648e8a",
   "metadata": {},
   "outputs": [],
   "source": [
    "hyperparameters = ['learning_rate', 'weight_decay', 'batch_size', 'label_smoothing', 'x_y_resolution', 'normalization', 'model_key']\n",
    "\n",
    "fig, ax = plt.subplots(2, (len(hyperparameters) + 1 ) // 2, figsize=(22, 8))\n",
    "for i, hyperparameter in enumerate(hyperparameters):\n",
    "    sns.scatterplot(data=results_df, x=hyperparameter, y='mean_5_fold_ranking_score', hue='model_key', ax=ax[i%2][i//2])\n",
    "    if hyperparameter in ['learning_rate', 'weight_decay', 'final_learning_rate', 'label_smoothing']:\n",
    "        ax[i%2][i//2].set_xscale('log')\n",
    "    if i==0:\n",
    "        ax[i%2][i//2].legend(loc='lower left')\n",
    "    else:\n",
    "        ax[i%2][i//2].legend().remove()\n",
    "plt.tight_layout()\n",
    "plt.show()"
   ]
  },
  {
   "cell_type": "markdown",
   "id": "a7b8a8bb",
   "metadata": {},
   "source": [
    "# Plot Metric Curves"
   ]
  },
  {
   "cell_type": "code",
   "execution_count": null,
   "id": "f2dc4034",
   "metadata": {},
   "outputs": [],
   "source": [
    "trials_folder = '../../MamaMia/hyperparameter_tuning/tune_trials/2d_tuning_run_2'\n",
    "curve_dfs = []\n",
    "for subfolder in os.listdir(trials_folder):\n",
    "    if os.path.isdir(os.path.join(trials_folder, subfolder)):\n",
    "        loss_file = os.path.join(trials_folder, subfolder, 'loss_log_detailed.csv')\n",
    "        if os.path.exists(loss_file):\n",
    "            with open(loss_file, 'r') as file:\n",
    "                curve_df = pd.read_csv(file)\n",
    "            curve_df['trial'] = subfolder\n",
    "            curve_dfs.append(curve_df)\n",
    "curves_df = pd.concat(curve_dfs)\n",
    "curves_df"
   ]
  },
  {
   "cell_type": "code",
   "execution_count": null,
   "id": "ba4e00b7",
   "metadata": {},
   "outputs": [],
   "source": [
    "curves_df_filtered = curves_df.copy()\n",
    "curves_df_filtered = curves_df_filtered[(curves_df_filtered['ranking_score'] > 0.5) & (curves_df_filtered['ranking_score'] != 0.75)]\n",
    "\n",
    "fig = plt.figure(figsize=(20, 10))\n",
    "sns.lineplot(data=curves_df_filtered, x='epoch', y='ranking_score', hue='trial')\n",
    "plt.legend().remove()\n",
    "plt.show()"
   ]
  },
  {
   "cell_type": "code",
   "execution_count": null,
   "id": "60b10fa0",
   "metadata": {},
   "outputs": [],
   "source": [
    "fig, ax = plt.subplots(1, 2, figsize=(12, 6))\n",
    "sns.scatterplot(data=curves_df_filtered, x='fairness_score', y='balanced_accuracy', hue='trial', ax=ax[0])\n",
    "sns.scatterplot(data=curves_df_filtered, x='ranking_score', y='balanced_accuracy', hue='trial', ax=ax[1])\n",
    "ax[0].hlines(0.5, 0, 1)\n",
    "ax[1].hlines(0.5, 0, 1)\n",
    "ax[0].legend().remove()\n",
    "ax[1].legend().remove()\n",
    "plt.show()"
   ]
  },
  {
   "cell_type": "code",
   "execution_count": null,
   "id": "dba04664",
   "metadata": {},
   "outputs": [],
   "source": []
  }
 ],
 "metadata": {
  "kernelspec": {
   "display_name": "mamamia",
   "language": "python",
   "name": "python3"
  },
  "language_info": {
   "codemirror_mode": {
    "name": "ipython",
    "version": 3
   },
   "file_extension": ".py",
   "mimetype": "text/x-python",
   "name": "python",
   "nbconvert_exporter": "python",
   "pygments_lexer": "ipython3",
   "version": "3.12.9"
  }
 },
 "nbformat": 4,
 "nbformat_minor": 5
}
