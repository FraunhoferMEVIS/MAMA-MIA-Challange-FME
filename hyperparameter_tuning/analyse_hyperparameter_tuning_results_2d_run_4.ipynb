{
 "cells": [
  {
   "cell_type": "code",
   "execution_count": null,
   "id": "ca183365",
   "metadata": {},
   "outputs": [],
   "source": [
    "import json\n",
    "import os\n",
    "import pandas as pd\n",
    "import seaborn as sns\n",
    "import matplotlib.pyplot as plt"
   ]
  },
  {
   "cell_type": "code",
   "execution_count": null,
   "id": "3f5f771a",
   "metadata": {},
   "outputs": [],
   "source": [
    "results_folder = '../../hyperparameter_tuning/tune_results/2d_tuning_run_4'\n",
    "results = []\n",
    "for subfolder in os.listdir(results_folder):\n",
    "    if os.path.isdir(os.path.join(results_folder, subfolder)):\n",
    "        result_file = os.path.join(results_folder, subfolder, 'result.json')\n",
    "        if not os.path.exists(result_file):\n",
    "            continue\n",
    "        with open(result_file, 'r') as file:\n",
    "            try:\n",
    "                result = json.load(file)\n",
    "            except json.JSONDecodeError:\n",
    "                continue\n",
    "            config = result['config']\n",
    "            result.update(config)\n",
    "            result.pop('config')\n",
    "        results.append(result)\n",
    "results_df = pd.DataFrame(results)\n",
    "results_df.head()"
   ]
  },
  {
   "cell_type": "code",
   "execution_count": null,
   "id": "31265dbf",
   "metadata": {},
   "outputs": [],
   "source": [
    "results_df['mean_5_fold_ranking_score'] = results_df['mean_5_fold_ranking_score'].map(lambda x: 0.5 if x<0.5 else x)\n",
    "results_df['balanced_accuracy'] = results_df['balanced_accuracy'].map(lambda x: 0.5 if x<0.5 else x)"
   ]
  },
  {
   "cell_type": "code",
   "execution_count": null,
   "id": "6d648e8a",
   "metadata": {},
   "outputs": [],
   "source": [
    "hyperparameters = ['learning_rate', 'final_learning_rate', 'momentum', 'weight_decay', 'batch_size', 'label_smoothing', 'x_y_resolution', 'model_key']\n",
    "\n",
    "fig, ax = plt.subplots(2, len(hyperparameters), figsize=(40, 8))\n",
    "for i, hyperparameter in enumerate(hyperparameters):\n",
    "    sns.scatterplot(data=results_df, x=hyperparameter, y='mean_5_fold_ranking_score', hue='model_key', ax=ax[0][i])\n",
    "    sns.scatterplot(data=results_df, x=hyperparameter, y='balanced_accuracy', hue='model_key', ax=ax[1][i])\n",
    "    if hyperparameter in ['learning_rate', 'weight_decay', 'final_learning_rate', 'label_smoothing']:\n",
    "        ax[0][i].set_xscale('log')\n",
    "        ax[1][i].set_xscale('log')\n",
    "    if i==0:\n",
    "        ax[0][i].legend().remove()\n",
    "        ax[1][i].legend(loc='lower left')\n",
    "    else:\n",
    "        ax[0][i].legend().remove()\n",
    "        ax[1][i].legend().remove()\n",
    "plt.tight_layout()\n",
    "plt.show()"
   ]
  },
  {
   "cell_type": "code",
   "execution_count": null,
   "id": "0d379a36",
   "metadata": {},
   "outputs": [],
   "source": [
    "results_df['selected_trials'] = (results_df['balanced_accuracy'] > 0.58) \\\n",
    "                              & (results_df['mean_5_fold_ranking_score'] > 0.58) \\\n",
    "                              & (results_df['model_key'] != 'swin3d_t')"
   ]
  },
  {
   "cell_type": "code",
   "execution_count": null,
   "id": "efc1a7fa",
   "metadata": {},
   "outputs": [],
   "source": [
    "sns.scatterplot(data=results_df, x='mean_5_fold_ranking_score', y='balanced_accuracy', hue='selected_trials')\n",
    "plt.show()"
   ]
  },
  {
   "cell_type": "code",
   "execution_count": null,
   "id": "527f6e47",
   "metadata": {},
   "outputs": [],
   "source": [
    "sns.scatterplot(data=results_df, x='mean_5_fold_ranking_score', y='balanced_accuracy', hue='model_key')\n",
    "plt.show()"
   ]
  },
  {
   "cell_type": "code",
   "execution_count": null,
   "id": "f2dc4034",
   "metadata": {},
   "outputs": [],
   "source": [
    "results_df[results_df['selected_trials']]"
   ]
  },
  {
   "cell_type": "code",
   "execution_count": null,
   "id": "f11a7556",
   "metadata": {},
   "outputs": [],
   "source": [
    "trial_ids = results_df[results_df['selected_trials']]['trial_id'].to_list()\n",
    "\n",
    "#selected_trial_ids_path = '../../hyperparameter_tuning/selected_trial_ids_2d_tuning_run_4_test.json'\n",
    "#with open(selected_trial_ids_path, 'w') as file:\n",
    "#    json.dump(trial_ids, file, indent=4)"
   ]
  },
  {
   "cell_type": "markdown",
   "id": "3c29754e",
   "metadata": {},
   "source": [
    "# Analyse spread of metrics over 5 folds of each run"
   ]
  },
  {
   "cell_type": "code",
   "execution_count": null,
   "id": "532272a3",
   "metadata": {},
   "outputs": [],
   "source": [
    "trials_folder = '../../hyperparameter_tuning/tune_trials/2d_tuning_run_4'\n",
    "curve_dfs = []\n",
    "for subfolder in os.listdir(trials_folder):\n",
    "    if os.path.isdir(os.path.join(trials_folder, subfolder)):\n",
    "        loss_file = os.path.join(trials_folder, subfolder, 'loss_log_detailed.csv')\n",
    "        if os.path.exists(loss_file):\n",
    "            with open(loss_file, 'r') as file:\n",
    "                curve_df = pd.read_csv(file)\n",
    "            curve_df['trial'] = subfolder\n",
    "            curve_dfs.append(curve_df)\n",
    "curves_df = pd.concat(curve_dfs)\n",
    "curves_df = curves_df.reset_index(drop=True)"
   ]
  },
  {
   "cell_type": "code",
   "execution_count": null,
   "id": "9f57d1cc",
   "metadata": {},
   "outputs": [],
   "source": [
    "curves_df['trial_id'] = curves_df['trial'].str.split('_').str[1] + '_' + curves_df['trial'].str.split('_').str[2]\n",
    "curves_df['fold'] = curves_df['trial'].str.split('_').str[4]\n",
    "curves_df = curves_df.merge(results_df, on='trial_id', suffixes=(\"\", \"_averaged\"))\n",
    "curves_df"
   ]
  },
  {
   "cell_type": "code",
   "execution_count": null,
   "id": "845729b0",
   "metadata": {},
   "outputs": [],
   "source": [
    "best_df = curves_df.loc[curves_df.groupby('trial')['ranking_score'].idxmax()]\n",
    "best_df['selected_trials'] = best_df['trial_id'].isin(trial_ids)\n",
    "best_df_best_trials = best_df[best_df['trial_id'].isin(trial_ids)]"
   ]
  },
  {
   "cell_type": "code",
   "execution_count": null,
   "id": "f2c412c2",
   "metadata": {},
   "outputs": [],
   "source": [
    "fig, ax = plt.subplots(1, 2, figsize=(12, 5))\n",
    "sns.scatterplot(data=best_df_best_trials, x='ranking_score', y='balanced_accuracy', hue='trial_id', ax=ax[0])\n",
    "sns.scatterplot(data=best_df_best_trials, x='ranking_score', y='balanced_accuracy', hue='fold', ax=ax[1])\n",
    "plt.tight_layout()\n",
    "plt.show()"
   ]
  },
  {
   "cell_type": "code",
   "execution_count": null,
   "id": "5346cb35",
   "metadata": {},
   "outputs": [],
   "source": [
    "sns.scatterplot(data=best_df, x='ranking_score', y='balanced_accuracy', hue='fold')\n",
    "plt.tight_layout()\n",
    "plt.show()"
   ]
  },
  {
   "cell_type": "code",
   "execution_count": null,
   "id": "93e40aab",
   "metadata": {},
   "outputs": [],
   "source": [
    "fig, ax = plt.subplots(1, 5, figsize=(20, 4))\n",
    "for fold in range(5):\n",
    "    best_df_fold_i = best_df[best_df['fold'] == str(fold+1)]\n",
    "    sns.scatterplot(data=best_df_fold_i, x='ranking_score', y='balanced_accuracy', hue='selected_trials', ax=ax[fold])\n",
    "    ax[fold].set_xlim(0.41, 0.77)\n",
    "    ax[fold].set_ylim(0.45, 0.68)\n",
    "    ax[fold].set_title(f'Fold {fold+1}')\n",
    "plt.tight_layout()\n",
    "plt.show()"
   ]
  },
  {
   "cell_type": "code",
   "execution_count": null,
   "id": "8c5fdc53",
   "metadata": {},
   "outputs": [],
   "source": [
    "selected_trials_per_fold = []\n",
    "for fold in range(5):\n",
    "    best_df_fold_i = best_df[best_df['fold'] == str(fold+1)]\n",
    "    df_fold_i_candidates = best_df_fold_i.sort_values(by='balanced_accuracy', ascending=False).head(20)\n",
    "    selected = df_fold_i_candidates.sort_values(by='ranking_score', ascending=False).head(10)['trial'].to_list()\n",
    "    selected_trials_per_fold.extend(selected)\n",
    "selected_trials_per_fold.sort()\n",
    "print(len(selected_trials_per_fold), sorted(selected_trials_per_fold))\n",
    "\n",
    "selected_trial_ids_path = '../../hyperparameter_tuning/selected_trial_ids_by_fold_2d_tuning_run_4.json'\n",
    "with open(selected_trial_ids_path, 'w') as file:\n",
    "    json.dump(selected_trials_per_fold, file, indent=4)\n"
   ]
  },
  {
   "cell_type": "code",
   "execution_count": null,
   "id": "58e748a5",
   "metadata": {},
   "outputs": [],
   "source": [
    "best_df['selected_trials_by_fold'] = best_df['trial'].isin(selected_trials_per_fold)"
   ]
  },
  {
   "cell_type": "code",
   "execution_count": null,
   "id": "2dd3048e",
   "metadata": {},
   "outputs": [],
   "source": [
    "fig, ax = plt.subplots(1, 5, figsize=(20, 4))\n",
    "for fold in range(5):\n",
    "    best_df_fold_i = best_df[best_df['fold'] == str(fold+1)]\n",
    "    sns.scatterplot(data=best_df_fold_i, x='ranking_score', y='balanced_accuracy', hue='selected_trials_by_fold', ax=ax[fold])\n",
    "    ax[fold].set_xlim(0.41, 0.77)\n",
    "    ax[fold].set_ylim(0.45, 0.68)\n",
    "    ax[fold].set_title(f'Fold {fold+1}')\n",
    "plt.tight_layout()\n",
    "plt.show()"
   ]
  },
  {
   "cell_type": "code",
   "execution_count": null,
   "id": "3339d824",
   "metadata": {},
   "outputs": [],
   "source": []
  }
 ],
 "metadata": {
  "kernelspec": {
   "display_name": "mamamia",
   "language": "python",
   "name": "python3"
  },
  "language_info": {
   "codemirror_mode": {
    "name": "ipython",
    "version": 3
   },
   "file_extension": ".py",
   "mimetype": "text/x-python",
   "name": "python",
   "nbconvert_exporter": "python",
   "pygments_lexer": "ipython3",
   "version": "3.12.9"
  }
 },
 "nbformat": 4,
 "nbformat_minor": 5
}
