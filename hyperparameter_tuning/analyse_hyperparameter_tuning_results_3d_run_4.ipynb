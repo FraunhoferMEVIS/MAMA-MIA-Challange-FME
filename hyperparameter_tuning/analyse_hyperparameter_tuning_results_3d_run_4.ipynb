{
 "cells": [
  {
   "cell_type": "code",
   "execution_count": null,
   "id": "ca183365",
   "metadata": {},
   "outputs": [],
   "source": [
    "import json\n",
    "import os\n",
    "import pandas as pd\n",
    "import seaborn as sns\n",
    "import matplotlib.pyplot as plt"
   ]
  },
  {
   "cell_type": "code",
   "execution_count": null,
   "id": "3f5f771a",
   "metadata": {},
   "outputs": [],
   "source": [
    "results_folder = '../../MamaMia/hyperparameter_tuning/tune_results/3d_tuning_run_4'\n",
    "results = []\n",
    "for subfolder in os.listdir(results_folder):\n",
    "    if os.path.isdir(os.path.join(results_folder, subfolder)):\n",
    "        result_file = os.path.join(results_folder, subfolder, 'result.json')\n",
    "        if not os.path.exists(result_file):\n",
    "            continue\n",
    "        with open(result_file, 'r') as file:\n",
    "            try:\n",
    "                result = json.load(file)\n",
    "            except json.JSONDecodeError:\n",
    "                continue\n",
    "            config = result['config']\n",
    "            result.update(config)\n",
    "            result.pop('config')\n",
    "        results.append(result)\n",
    "results_df = pd.DataFrame(results)\n",
    "results_df.head()"
   ]
  },
  {
   "cell_type": "code",
   "execution_count": null,
   "id": "31265dbf",
   "metadata": {},
   "outputs": [],
   "source": [
    "results_df['mean_5_fold_ranking_score'] = results_df['mean_5_fold_ranking_score'].map(lambda x: 0.5 if x==0 else x)\n",
    "results_df['balanced_accuracy'] = results_df['balanced_accuracy'].map(lambda x: 0.5 if x==0 else x)"
   ]
  },
  {
   "cell_type": "code",
   "execution_count": null,
   "id": "6d648e8a",
   "metadata": {},
   "outputs": [],
   "source": [
    "hyperparameters = ['optimizer', 'learning_rate', 'final_learning_rate', 'momentum', 'weight_decay', 'batch_size', 'label_smoothing', 'x_y_resolution', 'z_resolution', 'model_key']\n",
    "\n",
    "fig, ax = plt.subplots(2, len(hyperparameters), figsize=(40, 8))\n",
    "for i, hyperparameter in enumerate(hyperparameters):\n",
    "    sns.scatterplot(data=results_df, x=hyperparameter, y='mean_5_fold_ranking_score', hue='model_key', ax=ax[0][i])\n",
    "    sns.scatterplot(data=results_df, x=hyperparameter, y='balanced_accuracy', hue='model_key', ax=ax[1][i])\n",
    "    if hyperparameter in ['learning_rate', 'weight_decay', 'final_learning_rate', 'label_smoothing']:\n",
    "        ax[0][i].set_xscale('log')\n",
    "        ax[1][i].set_xscale('log')\n",
    "    if i==0:\n",
    "        ax[0][i].legend().remove()\n",
    "        ax[1][i].legend(loc='lower center')\n",
    "    else:\n",
    "        ax[0][i].legend().remove()\n",
    "        ax[1][i].legend().remove()\n",
    "plt.tight_layout()\n",
    "plt.show()"
   ]
  },
  {
   "cell_type": "code",
   "execution_count": null,
   "id": "efc1a7fa",
   "metadata": {},
   "outputs": [],
   "source": [
    "results_df_filtered = results_df[results_df['balanced_accuracy'] != 0].copy()\n",
    "sns.scatterplot(data=results_df_filtered, x='mean_5_fold_ranking_score', y='balanced_accuracy')\n",
    "plt.show()"
   ]
  },
  {
   "cell_type": "code",
   "execution_count": null,
   "id": "f2dc4034",
   "metadata": {},
   "outputs": [],
   "source": [
    "# TODO: Plot validation and training loss curves to see if number of epochs is fine"
   ]
  }
 ],
 "metadata": {
  "kernelspec": {
   "display_name": "mamamia",
   "language": "python",
   "name": "python3"
  },
  "language_info": {
   "codemirror_mode": {
    "name": "ipython",
    "version": 3
   },
   "file_extension": ".py",
   "mimetype": "text/x-python",
   "name": "python",
   "nbconvert_exporter": "python",
   "pygments_lexer": "ipython3",
   "version": "3.12.9"
  }
 },
 "nbformat": 4,
 "nbformat_minor": 5
}
